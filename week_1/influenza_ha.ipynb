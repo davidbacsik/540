{
 "cells": [
  {
   "cell_type": "markdown",
   "metadata": {},
   "source": [
    "## 540-Week 1\n",
    "\n",
    "This script aims to read in two fasta files, and find the longest string (or strings) that match.\n",
    "\n",
    "They can be in either forward or reverse orientation.\n",
    "\n",
    "Done:\n",
    "\n",
    "    -Load in fasta files\n",
    "    -Write Reverse Compliment Function\n",
    "    -Build suffix array\n",
    "    -Sort array\n",
    "    -Implement numpy arrays\n",
    "    -Check that a suffix array works the way you think it does\n",
    "    -Write output file\n",
    "    -Match substrings from suffix table\n",
    "    -Figure out a scheme to track what fasta file a suffix comes from.\n",
    "    -Write code to count bases for each sequence and report\n",
    "    -Store results in dictionary that can handle more than one result\n",
    "\n",
    "To Do:\n",
    "\n",
    "    -Format Output\n"
   ]
  },
  {
   "cell_type": "code",
   "execution_count": 1,
   "metadata": {
    "collapsed": true
   },
   "outputs": [],
   "source": [
    "# Imports\n",
    "\n",
    "import timeit\n",
    "import numpy as np\n",
    "from numba import jit"
   ]
  },
  {
   "cell_type": "code",
   "execution_count": 2,
   "metadata": {},
   "outputs": [
    {
     "name": "stdout",
     "output_type": "stream",
     "text": [
      "a_content: 593\n",
      "c_content: 332\n",
      "g_content: 386\n",
      "t_content: 426\n",
      "n_content: 0\n",
      "all_content: 1737\n",
      "check: 1737\n",
      "a_content: 618\n",
      "c_content: 323\n",
      "g_content: 404\n",
      "t_content: 430\n",
      "n_content: 0\n",
      "all_content: 1775\n",
      "check: 1775\n"
     ]
    }
   ],
   "source": [
    "# File I/O\n",
    "\n",
    "# Function to load sequence into \n",
    "\n",
    "def get_sequence(in_file):\n",
    "    # Open input file\n",
    "    genome = open(in_file, 'r')\n",
    "    \n",
    "    seq_list = []\n",
    "    \n",
    "    # Parse out name line\n",
    "    for line in genome:\n",
    "        if line[0] == \">\":\n",
    "            pass\n",
    "        else:\n",
    "            line = line.strip('\\n')\n",
    "            seq_list.append(line)\n",
    "    \n",
    "    genome.close()\n",
    "            \n",
    "    # Concatenate sequence back\n",
    "    seq = ''.join(map(str, seq_list))\n",
    "    \n",
    "    a_content = seq.count('A')\n",
    "    c_content = seq.count('C')\n",
    "    g_content = seq.count('G')\n",
    "    t_content = seq.count('T')\n",
    "    n_content = seq.count('N')\n",
    "    all_content = len(seq)\n",
    "    \n",
    "    print('a_content: ' + str(a_content))\n",
    "    print('c_content: ' + str(c_content))\n",
    "    print('g_content: ' + str(g_content))\n",
    "    print('t_content: ' + str(t_content))\n",
    "    print('n_content: ' + str(n_content))\n",
    "    print('all_content: ' + str(all_content))\n",
    "    print('check: '+ str(a_content+c_content+g_content+t_content+n_content))\n",
    "                  \n",
    "    return seq\n",
    "\n",
    "# Load sequences\n",
    "\n",
    "genome_a_file = 'test_files/CY222533_1.fna'\n",
    "genome_b_file = 'test_files/J02176_1.fna'\n",
    "\n",
    "\n",
    "sequences = {}\n",
    "for genome_file in [genome_a_file, genome_b_file]:\n",
    "    sequences[genome_file]=(get_sequence(genome_file))"
   ]
  },
  {
   "cell_type": "code",
   "execution_count": 3,
   "metadata": {
    "collapsed": true
   },
   "outputs": [],
   "source": [
    "# Get reverse compliment for each sequence\n",
    "\n",
    "def rev_comp(input_sequence):\n",
    "    intermediate_seq = input_sequence.replace('A','W').replace('T','X').replace('C','Y').replace('G','Z')\n",
    "    new_seq = intermediate_seq.replace('W','T').replace('X','A').replace('Y','G').replace('Z','C')\n",
    "    new_seq = new_seq[::-1]\n",
    "    return new_seq"
   ]
  },
  {
   "cell_type": "code",
   "execution_count": 4,
   "metadata": {
    "collapsed": true
   },
   "outputs": [],
   "source": [
    "for seq_name, seq in sequences.items():\n",
    "    sequences[seq_name+'_rev_comp'] = rev_comp(seq)\n",
    "\n",
    "# Now, sequences has the reverse compliment"
   ]
  },
  {
   "cell_type": "code",
   "execution_count": 5,
   "metadata": {
    "collapsed": true
   },
   "outputs": [],
   "source": [
    "# Build suffix array function\n",
    "suffix_array = [()]\n",
    "\n",
    "\n",
    "def populate_suffix(input_sequence, seq_name):\n",
    "    global suffix_array\n",
    "    total_length = len(input_sequence)\n",
    "    for x in range(total_length):\n",
    "        suffix_array.append((seq_name, input_sequence[x:]))\n",
    "    suffix_array.pop(0)"
   ]
  },
  {
   "cell_type": "code",
   "execution_count": 6,
   "metadata": {
    "collapsed": true
   },
   "outputs": [],
   "source": [
    "# Populate the suffix array with suffices from all sequences\n",
    "\n",
    "for seq_name, seq in sequences.items():\n",
    "    populate_suffix(seq, seq_name)\n",
    "\n",
    "suffix_array = np.array(suffix_array)"
   ]
  },
  {
   "cell_type": "code",
   "execution_count": 7,
   "metadata": {},
   "outputs": [],
   "source": [
    "# Sort the suffix array.\n",
    "\n",
    "\n",
    "def sort_suffix(input_array):\n",
    "    global sorted_array\n",
    "    sorted_array = sorted(input_array, key=lambda tup: tup[1])\n",
    "\n",
    "sort_suffix(suffix_array)"
   ]
  },
  {
   "cell_type": "code",
   "execution_count": 8,
   "metadata": {
    "collapsed": true
   },
   "outputs": [],
   "source": [
    "with open('output.txt','w') as out:\n",
    "    out.write('sorted_array:\\n')\n",
    "    for x in sorted_array:\n",
    "        out.write(str(x)+'\\n')"
   ]
  },
  {
   "cell_type": "code",
   "execution_count": 9,
   "metadata": {},
   "outputs": [],
   "source": [
    "counter = int()\n",
    "max_counter = {'max_length': [0], 'string_1': [0], 'string_2': [0], 'string_1_index': [0], 'string_2_index': [0], 'string_1_source': [0], 'string_2_source': [0]}\n",
    "\n",
    "\n",
    "def find_longest_string(string_1, string_2, string_1_index, string_2_index, string_1_source, string_2_source):\n",
    "    global counter\n",
    "    global max_counter\n",
    "    for x in range(min(len(string_1),len(string_2))):\n",
    "        if string_1[x] == string_2[x]:\n",
    "            counter = x + 1\n",
    "        else:\n",
    "            break\n",
    "    if counter == int(max(max_counter['max_length'])):\n",
    "        max_counter['max_length'].append(counter)\n",
    "        max_counter['string_1'].append(string_1[0:counter])\n",
    "        max_counter['string_2'].append(string_2[0:counter])\n",
    "        max_counter['string_1_index'].append(string_1_index)\n",
    "        max_counter['string_2_index'].append(string_2_index)\n",
    "        max_counter['string_1_source'].append(string_1_source)\n",
    "        max_counter['string_2_source'].append(string_2_source)\n",
    "    elif counter > int(max(max_counter['max_length'])):\n",
    "        max_counter['max_length'] = []\n",
    "        max_counter['string_1'] = []\n",
    "        max_counter['string_2'] = []\n",
    "        max_counter['string_1_index'] = []\n",
    "        max_counter['string_2_index'] = []\n",
    "        max_counter['string_1_source'] = []\n",
    "        max_counter['string_2_source'] = []\n",
    "        max_counter['max_length'].append(counter)\n",
    "        max_counter['string_1'].append(string_1[0:counter])\n",
    "        max_counter['string_2'].append(string_2[0:counter])\n",
    "        max_counter['string_1_index'].append(string_1_index)\n",
    "        max_counter['string_2_index'].append(string_2_index)\n",
    "        max_counter['string_1_source'].append(string_1_source)\n",
    "        max_counter['string_2_source'].append(string_2_source)\n",
    "    else:\n",
    "        pass"
   ]
  },
  {
   "cell_type": "code",
   "execution_count": 10,
   "metadata": {},
   "outputs": [
    {
     "name": "stdout",
     "output_type": "stream",
     "text": [
      "max_counter: \n",
      "{'string_1_source': ['test_files/J02176_1.fna_rev_comp', 'test_files/CY222533_1.fna'], 'max_length': [13, 13], 'string_2': ['GTCCCATTTCTTA', 'TAAGAAATGGGAC'], 'string_1': ['GTCCCATTTCTTA', 'TAAGAAATGGGAC'], 'string_1_index': [4703, 5003], 'string_2_source': ['test_files/CY222533_1.fna_rev_comp', 'test_files/J02176_1.fna'], 'string_2_index': [4704, 5004]}\n"
     ]
    }
   ],
   "source": [
    "for x in range(len(sorted_array)):\n",
    "    string_1_index = x\n",
    "    if string_1_index == len(sorted_array)-1:\n",
    "        string_2_index = 0\n",
    "    else:\n",
    "        string_2_index = x+1\n",
    "    if sorted_array[string_1_index][0] in sorted_array[string_2_index][0] or sorted_array[string_2_index][0] in sorted_array[string_1_index][0]:\n",
    "        pass\n",
    "    else:\n",
    "        find_longest_string(sorted_array[string_1_index][1],sorted_array[string_2_index][1], string_1_index, string_2_index, sorted_array[string_1_index][0], sorted_array[string_2_index][0])\n",
    "\n",
    "print('max_counter: ')\n",
    "print(max_counter)"
   ]
  },
  {
   "cell_type": "code",
   "execution_count": 11,
   "metadata": {},
   "outputs": [
    {
     "name": "stdout",
     "output_type": "stream",
     "text": [
      "string_1_source\n",
      "test_files/J02176_1.fna_rev_comp\n",
      "string_1_index\n",
      "4703\n",
      "string_2_source\n",
      "test_files/CY222533_1.fna_rev_comp\n",
      "string_2_index\n",
      "4704\n",
      "string_1\n",
      "GTCCCATTTCTTA\n",
      "string_2\n",
      "GTCCCATTTCTTA\n",
      "max_length\n",
      "13\n",
      "string_1_source\n",
      "test_files/CY222533_1.fna\n",
      "string_1_index\n",
      "5003\n",
      "string_2_source\n",
      "test_files/J02176_1.fna\n",
      "string_2_index\n",
      "5004\n",
      "string_1\n",
      "TAAGAAATGGGAC\n",
      "string_2\n",
      "TAAGAAATGGGAC\n",
      "max_length\n",
      "13\n"
     ]
    }
   ],
   "source": [
    "for x in range(len(max_counter['max_length'])):\n",
    "    print('string_1_source')\n",
    "    print(max_counter['string_1_source'][x])\n",
    "    print('string_1_index')\n",
    "    print(max_counter['string_1_index'][x])\n",
    "    print('string_2_source')\n",
    "    print(max_counter['string_2_source'][x])\n",
    "    print('string_2_index')\n",
    "    print(max_counter['string_2_index'][x])\n",
    "    print('string_1')\n",
    "    print(max_counter['string_1'][x])\n",
    "    print('string_2')\n",
    "    print(max_counter['string_2'][x])\n",
    "    print('max_length')\n",
    "    print(max_counter['max_length'][x])"
   ]
  },
  {
   "cell_type": "code",
   "execution_count": null,
   "metadata": {
    "collapsed": true
   },
   "outputs": [],
   "source": []
  }
 ],
 "metadata": {
  "kernelspec": {
   "display_name": "Python 2",
   "language": "python",
   "name": "python2"
  },
  "language_info": {
   "codemirror_mode": {
    "name": "ipython",
    "version": 2
   },
   "file_extension": ".py",
   "mimetype": "text/x-python",
   "name": "python",
   "nbconvert_exporter": "python",
   "pygments_lexer": "ipython2",
   "version": "2.7.14"
  }
 },
 "nbformat": 4,
 "nbformat_minor": 2
}
