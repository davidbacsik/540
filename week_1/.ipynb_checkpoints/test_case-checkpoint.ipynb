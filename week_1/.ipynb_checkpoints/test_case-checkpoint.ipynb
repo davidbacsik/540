{
 "cells": [
  {
   "cell_type": "markdown",
   "metadata": {},
   "source": [
    "## 540-Week 1\n",
    "\n",
    "This script aims to read in two fasta files, and find the longest string (or strings) that match.\n",
    "\n",
    "They can be in either forward or reverse orientation.\n",
    "\n",
    "Done:\n",
    "\n",
    "    -Load in fasta files\n",
    "    -Write Reverse Compliment Function\n",
    "    -Build suffix array\n",
    "    -Sort array\n",
    "    -Implement numpy arrays\n",
    "    -Check that a suffix array works the way you think it does\n",
    "    -Write output file\n",
    "    -Match substrings from suffix table\n",
    "    -Figure out a scheme to track what fasta file a suffix comes from.\n",
    "\n",
    "To Do:\n",
    "\n",
    "    -Write code to count bases for each sequence and report\n",
    "    -Format Output\n",
    "    -Store results in dictionary that can handle more than one result\n"
   ]
  },
  {
   "cell_type": "code",
   "execution_count": 1,
   "metadata": {
    "collapsed": true
   },
   "outputs": [],
   "source": [
    "# Imports\n",
    "\n",
    "import timeit\n",
    "import numpy as np\n",
    "from numba import jit"
   ]
  },
  {
   "cell_type": "code",
   "execution_count": 2,
   "metadata": {
    "collapsed": true
   },
   "outputs": [],
   "source": [
    "# File I/O\n",
    "\n",
    "# Function to load sequence into \n",
    "\n",
    "def get_sequence(in_file):\n",
    "    # Open input file\n",
    "    genome = open(in_file, 'r')\n",
    "    \n",
    "    seq_list = []\n",
    "    \n",
    "    # Parse out name line\n",
    "    for line in genome:\n",
    "        if line[0] == \">\":\n",
    "            pass\n",
    "        else:\n",
    "            line = line.strip('\\n')\n",
    "            seq_list.append(line)\n",
    "    \n",
    "    genome.close()\n",
    "            \n",
    "    # Concatenate sequence back\n",
    "    seq = ''.join(map(str, seq_list))\n",
    "    \n",
    "    \n",
    "                  \n",
    "    return seq\n",
    "\n",
    "# Load sequences\n",
    "\n",
    "genome_a_file = 'test_files/CP001872.fna'\n",
    "genome_b_file = 'test_files/CP003913.fna'\n",
    "\n",
    "\n",
    "sequences = {}\n",
    "for genome_file in [genome_a_file, genome_b_file]:\n",
    "    sequences[genome_file]=(get_sequence(genome_file))"
   ]
  },
  {
   "cell_type": "code",
   "execution_count": 3,
   "metadata": {
    "collapsed": true
   },
   "outputs": [],
   "source": [
    "# Get reverse compliment for each sequence\n",
    "def rev_comp(input_sequence):\n",
    "    intermediate_seq = input_sequence.replace('A','W').replace('T','X').replace('C','Y').replace('G','Z')\n",
    "    new_seq = intermediate_seq.replace('W','T').replace('X','A').replace('Y','G').replace('Z','C')\n",
    "    new_seq = new_seq[::-1]\n",
    "    return new_seq"
   ]
  },
  {
   "cell_type": "code",
   "execution_count": 4,
   "metadata": {
    "collapsed": true
   },
   "outputs": [],
   "source": [
    "for seq_name, seq in sequences.items():\n",
    "    sequences[seq_name+'_rev_comp'] = rev_comp(seq)\n",
    "\n",
    "# Now, sequences has the reverse compliment"
   ]
  },
  {
   "cell_type": "code",
   "execution_count": null,
   "metadata": {
    "collapsed": true
   },
   "outputs": [],
   "source": [
    "# Build suffix array function\n",
    "suffix_array = [()]\n",
    "\n",
    "def populate_suffix(input_sequence, seq_name):\n",
    "    global suffix_array\n",
    "    total_length = len(input_sequence)\n",
    "    for x in range(total_length):\n",
    "        suffix_array.append((seq_name, input_sequence[x:]))\n",
    "    suffix_array.pop(0)"
   ]
  },
  {
   "cell_type": "code",
   "execution_count": null,
   "metadata": {
    "collapsed": true
   },
   "outputs": [],
   "source": [
    "# Populate the suffix array with suffices from all sequences\n",
    "\n",
    "for seq_name, seq in sequences.items():\n",
    "    populate_suffix(seq, seq_name)\n",
    "\n",
    "suffix_array = np.array(suffix_array)"
   ]
  },
  {
   "cell_type": "code",
   "execution_count": null,
   "metadata": {
    "collapsed": true
   },
   "outputs": [],
   "source": [
    "# Sort the suffix array.\n",
    "\n",
    "def sort_suffix(input_array):\n",
    "    global sorted_array\n",
    "    sorted_array = sorted(input_array, key=lambda tup: tup[1])\n",
    "\n",
    "sort_suffix(suffix_array)"
   ]
  },
  {
   "cell_type": "code",
   "execution_count": null,
   "metadata": {
    "collapsed": true
   },
   "outputs": [],
   "source": [
    "with open('output.txt','w') as out:\n",
    "    out.write('sorted_array:\\n')\n",
    "    for x in sorted_array:\n",
    "        out.write(str(x)+'\\n')"
   ]
  },
  {
   "cell_type": "code",
   "execution_count": null,
   "metadata": {
    "collapsed": true
   },
   "outputs": [],
   "source": [
    "counter = int()\n",
    "max_counter = {'max_length': None, 'string_1': None, 'string_2': None, 'string_1_index': None, 'string_2_index': None}\n",
    "\n",
    "def find_longest_string(string_1, string_2, string_1_index, string_2_index):\n",
    "    global counter\n",
    "    global max_counter\n",
    "    for x in range(min(len(string_1),len(string_2))):\n",
    "        if string_1[x] == string_2[x]:\n",
    "            counter = x + 1\n",
    "        else:\n",
    "            break\n",
    "    if counter > max_counter['max_length']:\n",
    "        max_counter['max_length'] = counter\n",
    "        max_counter['string_1'] = string_1[0:counter]\n",
    "        max_counter['string_2'] = string_2[0:counter]\n",
    "        max_counter['string_1_index'] = string_1_index\n",
    "        max_counter['string_2_index'] = string_2_index\n",
    "    else:\n",
    "        pass"
   ]
  },
  {
   "cell_type": "code",
   "execution_count": null,
   "metadata": {},
   "outputs": [],
   "source": [
    "for x in range(len(sorted_array)):\n",
    "    string_1_index = x\n",
    "    if string_1_index == len(sorted_array)-1:\n",
    "        string_2_index = 0\n",
    "    else:\n",
    "        string_2_index = x+1\n",
    "    if sorted_array[string_1_index][0] in sorted_array[string_2_index][0] or sorted_array[string_2_index][0] in sorted_array[string_1_index][0]:\n",
    "        pass\n",
    "    else:\n",
    "        find_longest_string(sorted_array[string_1_index][1],sorted_array[string_2_index][1], string_1_index, string_2_index)\n",
    "\n",
    "print('Max_counter: ')\n",
    "print(max_counter)"
   ]
  },
  {
   "cell_type": "code",
   "execution_count": null,
   "metadata": {
    "collapsed": true
   },
   "outputs": [],
   "source": []
  }
 ],
 "metadata": {
  "kernelspec": {
   "display_name": "Python 2",
   "language": "python",
   "name": "python2"
  },
  "language_info": {
   "codemirror_mode": {
    "name": "ipython",
    "version": 2
   },
   "file_extension": ".py",
   "mimetype": "text/x-python",
   "name": "python",
   "nbconvert_exporter": "python",
   "pygments_lexer": "ipython2",
   "version": "2.7.14"
  }
 },
 "nbformat": 4,
 "nbformat_minor": 2
}
